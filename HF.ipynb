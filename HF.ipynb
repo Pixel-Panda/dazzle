{
 "cells":[
  {
   "cell_type":"markdown",
   "source":[
    "# Sheet 2"
   ],
   "attachments":{
    
   },
   "metadata":{
    "datalore":{
     "node_id":"Sheet 2",
     "type":"MD",
     "hide_input_from_viewers":false,
     "hide_output_from_viewers":false,
     "sheet_delimiter":true
    }
   }
  },
  {
   "cell_type":"code",
   "source":[
    "import os\n",
    "from datasets import load_dataset\n",
    "import pandas as pd\n",
    "\n",
    "# Load it once to get all available splits\n",
    "huggingface_dataset = load_dataset(\"pixelpandacreative\/dazzle-0001\")\n",
    "\n",
    "# Now get a list of all available keys (split names)\n",
    "dataset_keys = list(huggingface_dataset.keys())\n",
    "\n",
    "dataset = {}\n",
    "for key in dataset_keys:\n",
    "    parquet_file = f'\/data\/notebook_files\/{key}.parquet'\n",
    "    \n",
    "    if os.path.exists(parquet_file):\n",
    "        # load the parquet file if it already exists\n",
    "        dataset[key] = pd.read_parquet(parquet_file)\n",
    "    else:\n",
    "        # download the dataset and save as a parquet file if it does not exist\n",
    "        df = pd.DataFrame(huggingface_dataset[key])\n",
    "        df.to_parquet(parquet_file)\n",
    "        dataset[key] = df\n",
    "\n",
    "print(dataset)"
   ],
   "execution_count":1,
   "outputs":[
    {
     "name":"stdout",
     "text":[
      "{'train':             public_identifier  \\\n",
      "0                        none   \n",
      "1                        a-a-   \n",
      "2                  a-a-bailey   \n",
      "3                 a-a-cabrera   \n",
      "4      a-a-de-oliveira-manuel   \n",
      "...                       ...   \n",
      "19995        aaron-dominowski   \n",
      "19996            aaron-dominy   \n",
      "19997      aaron-don-williams   \n",
      "19998              aaron-dona   \n",
      "19999            aaron-donald   \n",
      "\n",
      "                                         profile_pic_url  \\\n",
      "0      https:\/\/static-exp1.licdn.com\/sc\/h\/244xhbkr7g4...   \n",
      "1      https:\/\/media-exp1.licdn.com\/dms\/image\/C4E03AQ...   \n",
      "2      https:\/\/media-exp1.licdn.com\/dms\/image\/C4E03AQ...   \n",
      "3      https:\/\/media-exp1.licdn.com\/dms\/image\/C4E03AQ...   \n",
      "4      https:\/\/media-exp1.licdn.com\/dms\/image\/C4E03AQ...   \n",
      "...                                                  ...   \n",
      "19995  https:\/\/static-exp1.licdn.com\/sc\/h\/244xhbkr7g4...   \n",
      "19996  https:\/\/media-exp1.licdn.com\/dms\/image\/C4E03AQ...   \n",
      "19997  https:\/\/static-exp1.licdn.com\/sc\/h\/244xhbkr7g4...   \n",
      "19998  https:\/\/media-exp1.licdn.com\/dms\/image\/C5103AQ...   \n",
      "19999  https:\/\/media-exp1.licdn.com\/dms\/image\/C4E03AQ...   \n",
      "\n",
      "                              background_cover_image_url          first_name  \\\n",
      "0      https:\/\/static-exp1.licdn.com\/sc\/h\/5q92mjc5c51...                jeff   \n",
      "1      https:\/\/static-exp1.licdn.com\/sc\/h\/5q92mjc5c51...           abdulaziz   \n",
      "2      https:\/\/static-exp1.licdn.com\/sc\/h\/5q92mjc5c51...              andrew   \n",
      "3      https:\/\/static-exp1.licdn.com\/sc\/h\/5q92mjc5c51...                alex   \n",
      "4      https:\/\/media-exp1.licdn.com\/dms\/image\/C4D16AQ...  alcino de oliveira   \n",
      "...                                                  ...                 ...   \n",
      "19995  https:\/\/static-exp1.licdn.com\/sc\/h\/5q92mjc5c51...               Aaron   \n",
      "19996  https:\/\/static-exp1.licdn.com\/sc\/h\/5q92mjc5c51...       Aaron Dominy,   \n",
      "19997  https:\/\/static-exp1.licdn.com\/sc\/h\/5q92mjc5c51...               Aaron   \n",
      "19998  https:\/\/media-exp1.licdn.com\/dms\/image\/C5616AQ...               Aaron   \n",
      "19999  https:\/\/static-exp1.licdn.com\/sc\/h\/5q92mjc5c51...               Aaron   \n",
      "\n",
      "        last_name                  full_name  \\\n",
      "0             b .                   jeff b .   \n",
      "1         alyahya          abdulaziz alyahya   \n",
      "2          bailey              andrew bailey   \n",
      "3         cabrera               alex cabrera   \n",
      "4          manuel  alcino de oliveira manuel   \n",
      "...           ...                        ...   \n",
      "19995  Dominowski           Aaron Dominowski   \n",
      "19996         MBA          Aaron Dominy, MBA   \n",
      "19997    Williams             Aaron Williams   \n",
      "19998        Dona                 Aaron Dona   \n",
      "19999      Donald               Aaron Donald   \n",
      "\n",
      "                                              occupation  \\\n",
      "0              AVP, Life Underwriting at Illinois Mutual   \n",
      "1                                                   None   \n",
      "2      Science & Technology Counsel at National Pork ...   \n",
      "3                               Research Intern at Apple   \n",
      "4               Marketing Consultant at Alcino Media LLC   \n",
      "...                                                  ...   \n",
      "19995                                               None   \n",
      "19996  Engagement Manager at Onica, a Rackspace Techn...   \n",
      "19997  Community Manager\/ Developer Advocate -Astra S...   \n",
      "19998           Senior Technical Agent at 343 Industries   \n",
      "19999     Production Foreman at Seneca Foods Corporation   \n",
      "\n",
      "                                                headline  \\\n",
      "0                                        illinois mutual   \n",
      "1                               student rowan university   \n",
      "2                         national pork producer council   \n",
      "3                 phd student carnegie mellon university   \n",
      "4      founder @ alcinomedia | facebook\/meta & google...   \n",
      "...                                                  ...   \n",
      "19995   Student at Delta College\\nInformation Technology   \n",
      "19996         Engagement Manager at Rackspace Technology   \n",
      "19997  Community Manager\/ Developer Advocate -Astra S...   \n",
      "19998               Tech Support Agent at 343 Industries   \n",
      "19999                    Sales, Marketing, & Management.   \n",
      "\n",
      "                                                 summary country  ...  \\\n",
      "0                                                   None       u  ...   \n",
      "1      ’ enthusiastic business management human resou...       u  ...   \n",
      "2      experienced government affair public policy pr...       u  ...   \n",
      "3                                                   None       u  ...   \n",
      "4      use drive commitment help , inspire others hel...       u  ...   \n",
      "...                                                  ...     ...  ...   \n",
      "19995                                               None      US  ...   \n",
      "19996  Experienced Agile\/Scrum management consultant ...      US  ...   \n",
      "19997  Aaron is passionate about bringing new technol...      US  ...   \n",
      "19998  I enjoy cutting loose with artistic expression...      US  ...   \n",
      "19999                                               None      US  ...   \n",
      "\n",
      "      articles                                             groups skills  \\\n",
      "0           []                                                 []   None   \n",
      "1           []  [{'name': 'Rowan University Alumni Association...   None   \n",
      "2           []                                                 []   None   \n",
      "3           []  [{'name': 'Stamps Scholars', 'profile_pic_url'...   None   \n",
      "4           []                                                 []   None   \n",
      "...        ...                                                ...    ...   \n",
      "19995       []                                                 []   None   \n",
      "19996       []  [{'name': 'Strategy Consulting Network', 'prof...   None   \n",
      "19997       []                                                 []   None   \n",
      "19998       []  [{'name': 'Writers, Authors, Artists, Books & ...   None   \n",
      "19999       []                                                 []   None   \n",
      "\n",
      "      inferred_salary github facebook gender birth_date industry interests  \n",
      "0                None   None     None   None       None     None      None  \n",
      "1                None   None     None   None       None     None      None  \n",
      "2                None   None     None   None       None     None      None  \n",
      "3                None   None     None   None       None     None      None  \n",
      "4                None   None     None   None       None     None      None  \n",
      "...               ...    ...      ...    ...        ...      ...       ...  \n",
      "19995            None   None     None   None       None     None      None  \n",
      "19996            None   None     None   None       None     None      None  \n",
      "19997            None   None     None   None       None     None      None  \n",
      "19998            None   None     None   None       None     None      None  \n",
      "19999            None   None     None   None       None     None      None  \n",
      "\n",
      "[20000 rows x 40 columns]}\n"
     ],
     "output_type":"stream"
    },
    {
     "data":{
      "application\/vnd.jupyter.widget-view+json":{
       "version_major":2,
       "version_minor":0,
       "model_id":"7d7ff9adbc3b46eaa98c0f5ba82a2b05"
      }
     },
     "metadata":{
      "application\/vnd.jupyter.widget-view+json":{
       "datalore":{
        "widget_id":"jU13eIYFrrMvFjRN0ip6dE"
       }
      }
     },
     "output_type":"display_data"
    },
    {
     "data":{
      "application\/vnd.jupyter.widget-view+json":{
       "version_major":2,
       "version_minor":0,
       "model_id":"aac7ceb3325643319a492faa57df2dcc"
      }
     },
     "metadata":{
      "application\/vnd.jupyter.widget-view+json":{
       "datalore":{
        "widget_id":"CBto5BSWQyVPgrTUG2SIwJ"
       }
      }
     },
     "output_type":"display_data"
    },
    {
     "data":{
      "application\/vnd.jupyter.widget-view+json":{
       "version_major":2,
       "version_minor":0,
       "model_id":"8396dd7ab9f84aaaac78d2928a2eb551"
      }
     },
     "metadata":{
      "application\/vnd.jupyter.widget-view+json":{
       "datalore":{
        "widget_id":"YSzqYQaUOBctitRUT0Mf3U"
       }
      }
     },
     "output_type":"display_data"
    },
    {
     "data":{
      "application\/vnd.jupyter.widget-view+json":{
       "version_major":2,
       "version_minor":0,
       "model_id":"6df30d2663d8421db95733634cff88ca"
      }
     },
     "metadata":{
      "application\/vnd.jupyter.widget-view+json":{
       "datalore":{
        "widget_id":"UBS5Y6tv0KT47TJk1sVd24"
       }
      }
     },
     "output_type":"display_data"
    }
   ],
   "metadata":{
    "datalore":{
     "node_id":"Z2f08oAXCnnECCaDgD2uLD",
     "type":"CODE",
     "hide_input_from_viewers":true,
     "hide_output_from_viewers":true
    }
   }
  },
  {
   "cell_type":"code",
   "source":[
    "from pandas import json_normalize\n",
    "\n",
    "all_fields = pd.DataFrame()\n",
    "\n",
    "# Print the full structure including all nested columns from ‘dataset’\n",
    "for key in dataset.keys():\n",
    "    print(f'--- Structure for {key} ---')\n",
    "    dataset[key].info(verbose=True)\n",
    "    \n",
    "    dicts_df = dataset[key].applymap(lambda x: x if isinstance(x, dict) else {str(x): x})\n",
    "    \n",
    "    # Flatten the nested columns and store in a temporary DataFrame\n",
    "    flattened_df = pd.json_normalize(dicts_df)\n",
    "    \n",
    "    # Append the flattened DataFrame to `all_fields`\n",
    "    all_fields = all_fields.append(flattened_df)\n",
    "\n",
    "all_fields.to_parquet('\/data\/notebook_files\/all_fields.parquet')"
   ],
   "execution_count":2,
   "outputs":[
    {
     "name":"stdout",
     "text":[
      "--- Structure for train ---\n",
      "<class 'pandas.core.frame.DataFrame'>\n",
      "RangeIndex: 20000 entries, 0 to 19999\n",
      "Data columns (total 40 columns):\n",
      " #   Column                        Non-Null Count  Dtype  \n",
      "---  ------                        --------------  -----  \n",
      " 0   public_identifier             20000 non-null  object \n",
      " 1   profile_pic_url               20000 non-null  object \n",
      " 2   background_cover_image_url    20000 non-null  object \n",
      " 3   first_name                    20000 non-null  object \n",
      " 4   last_name                     19998 non-null  object \n",
      " 5   full_name                     20000 non-null  object \n",
      " 6   occupation                    17878 non-null  object \n",
      " 7   headline                      18794 non-null  object \n",
      " 8   summary                       12592 non-null  object \n",
      " 9   country                       20000 non-null  object \n",
      " 10  country_full_name             20000 non-null  object \n",
      " 11  city                          19326 non-null  object \n",
      " 12  state                         13374 non-null  object \n",
      " 13  experiences                   20000 non-null  object \n",
      " 14  education                     20000 non-null  object \n",
      " 15  languages                     20000 non-null  object \n",
      " 16  accomplishment_organisations  20000 non-null  object \n",
      " 17  accomplishment_publications   20000 non-null  object \n",
      " 18  accomplishment_honors_awards  20000 non-null  object \n",
      " 19  accomplishment_patents        20000 non-null  object \n",
      " 20  accomplishment_courses        20000 non-null  object \n",
      " 21  accomplishment_projects       20000 non-null  object \n",
      " 22  accomplishment_test_scores    20000 non-null  object \n",
      " 23  volunteer_work                20000 non-null  object \n",
      " 24  certifications                20000 non-null  object \n",
      " 25  connections                   19576 non-null  float64\n",
      " 26  people_also_viewed            20000 non-null  object \n",
      " 27  recommendations               20000 non-null  object \n",
      " 28  activities                    20000 non-null  object \n",
      " 29  similarly_named_profiles      20000 non-null  object \n",
      " 30  articles                      20000 non-null  object \n",
      " 31  groups                        20000 non-null  object \n",
      " 32  skills                        0 non-null      object \n",
      " 33  inferred_salary               0 non-null      object \n",
      " 34  github                        0 non-null      object \n",
      " 35  facebook                      0 non-null      object \n",
      " 36  gender                        0 non-null      object \n",
      " 37  birth_date                    0 non-null      object \n",
      " 38  industry                      0 non-null      object \n",
      " 39  interests                     0 non-null      object \n",
      "dtypes: float64(1), object(39)\n",
      "memory usage: 6.1+ MB\n"
     ],
     "output_type":"stream"
    },
    {
     "name":"stderr",
     "text":[
      "<ipython-input-2-9bdda930bae5>:16: FutureWarning: The frame.append method is deprecated and will be removed from pandas in a future version. Use pandas.concat instead.\n",
      "  all_fields = all_fields.append(flattened_df)\n"
     ],
     "output_type":"stream"
    }
   ],
   "metadata":{
    "datalore":{
     "node_id":"ck7s4ppl1hDPxvBw5NQgdk",
     "type":"CODE",
     "hide_input_from_viewers":true,
     "hide_output_from_viewers":true
    }
   }
  },
  {
   "cell_type":"code",
   "source":[
    "from collections import defaultdict\n",
    "\n",
    "# Fix indents \n",
    "import pyarrow.parquet as pq\n",
    "import ast\n",
    "\n",
    "# Specify the Parquet dataset location\n",
    "file_path = '\/data\/notebook_files\/train.parquet'\n",
    "\n",
    "# Create a ParquetDataset Press command achy instance\n",
    "dataset = pq.ParquetDataset(file_path)\n",
    "\n",
    "# Initiate an empty dictionary for flattened records\n",
    "flattened_records = defaultdict(list)\n",
    "\n",
    "# Use per-row logic to flatten the experiences column\n",
    "for row in dataset.read().to_pandas().itertuples(index=False):\n",
    "    experiences = ast.literal_eval(row.experiences) if type(row.experiences) == str else row.experiences\n",
    "\n",
    "if experiences.any():  # Check if the experiences list is not empty\n",
    " for exp in experiences:\n",
    "            # Copy non-experience fields\n",
    "  for key, value in row._asdict().items():\n",
    "    if key != 'experiences':\n",
    "     flattened_records[key].append(value)\n",
    "\n",
    "    # Flatten experience fields\n",
    "    for exp_key, exp_val in exp.items():\n",
    "            flattened_records[f'experiences_{exp_key}'].append(exp_val)\n",
    "\n",
    "                    # Handle missing 'experiences_ends_at'\n",
    "            if 'ends_at' not in exp:\n",
    "                        flattened_records['experiences_ends_at'].append('present')\n",
    "            else:  # If the experiences list is empty, still copy the non-experience fields\n",
    "              for key, value in row._asdict().items():\n",
    "                    if key != 'experiences':\n",
    "                        flattened_records[key].append(value)\n",
    "                    # Add placeholders for experience fields\n",
    "                    flattened_records['experiences_company'].append(None)\n",
    "                    flattened_records['experiences_title'].append(None)\n",
    "                    flattened_records['experiences_starts_at'].append(None)\n",
    "                    flattened_records['experiences_ends_at'].append(None)\n",
    "\n",
    "# Write the dictionary directly to Parquet using PyArr"
   ],
   "execution_count":3,
   "outputs":[
    
   ],
   "metadata":{
    "datalore":{
     "node_id":"BJjwvkgd585UemjQANTELG",
     "type":"CODE",
     "hide_input_from_viewers":true,
     "hide_output_from_viewers":true
    }
   }
  },
  {
   "cell_type":"code",
   "source":[
    
   ],
   "execution_count":0,
   "outputs":[
    
   ],
   "metadata":{
    "datalore":{
     "node_id":"hmMnIbjmBo6oBrQ2YPUuKr",
     "type":"CODE",
     "hide_input_from_viewers":true,
     "hide_output_from_viewers":true
    }
   }
  },
  {
   "cell_type":"code",
   "source":[
    "from transformers import pipeline\n",
    "import pandas as pd\n",
    "import numpy as np\n",
    "\n",
    "# Specify the Parquet dataset location\n",
    "file_path = '\/data\/notebook_files\/train.parquet'\n",
    "\n",
    "# Load the dataset into a DataFrame \n",
    "df = pd.read_parquet(file_path)\n",
    "\n",
    "# Display column names to verify if \"occupation\" exists\n",
    "print(df.columns)\n",
    "\n",
    "# Get the top 1000 job titles based on their occurrence\n",
    "top_job_titles = df['occupation'].value_counts().nlargest(1000).index.to_list()\n",
    "\n",
    "# Initialize the feature extraction pipeline\n",
    "feature_extractor = pipeline('feature-extraction', model='distilbert-base-uncased')\n",
    "\n",
    "# Create an empty matrix to hold the embeddings\n",
    "embeddings = np.empty((0, 768), float)\n",
    "\n",
    "# Iterate over the top 1000 job titles, performing the feature extraction on each\n",
    "for job_title in top_job_titles:\n",
    "    embedding = feature_extractor(job_title)\n",
    "    embeddings = np.append(embeddings, embedding[0], axis=0)  # Expecting embedding[0] to be a 1D vector\n",
    "\n",
    "# Print the embeddings\n",
    "print(embeddings)"
   ],
   "execution_count":4,
   "outputs":[
    {
     "name":"stdout",
     "text":[
      "Index(['public_identifier', 'profile_pic_url', 'background_cover_image_url',\n",
      "       'first_name', 'last_name', 'full_name', 'occupation', 'headline',\n",
      "       'summary', 'country', 'country_full_name', 'city', 'state',\n",
      "       'experiences', 'education', 'languages', 'accomplishment_organisations',\n",
      "       'accomplishment_publications', 'accomplishment_honors_awards',\n",
      "       'accomplishment_patents', 'accomplishment_courses',\n",
      "       'accomplishment_projects', 'accomplishment_test_scores',\n",
      "       'volunteer_work', 'certifications', 'connections', 'people_also_viewed',\n",
      "       'recommendations', 'activities', 'similarly_named_profiles', 'articles',\n",
      "       'groups', 'skills', 'inferred_salary', 'github', 'facebook', 'gender',\n",
      "       'birth_date', 'industry', 'interests'],\n",
      "      dtype='object')\n",
      "[[-0.26664466 -0.08274557 -0.32174781 ... -0.17905299  0.24714933\n",
      "   0.2419768 ]\n",
      " [-0.24033551  0.10329705 -0.039351   ... -0.41274789 -0.08833237\n",
      "  -0.06715534]\n",
      " [-0.20224419  0.10520907 -0.22203828 ... -0.77824664  0.01934084\n",
      "  -0.18035391]\n",
      " ...\n",
      " [-0.25138801  0.09901774  0.02200551 ... -0.20175463 -0.17090189\n",
      "   0.26209477]\n",
      " [-0.49773166  0.00325792  0.02409786 ... -0.21069528 -0.08907715\n",
      "  -0.00094351]\n",
      " [ 0.8990345   0.13659719 -0.56265038 ...  0.16503313 -0.81479335\n",
      "  -0.27633005]]\n"
     ],
     "output_type":"stream"
    },
    {
     "name":"stderr",
     "text":[
      "Some weights of the model checkpoint at distilbert-base-uncased were not used when initializing DistilBertModel: ['vocab_projector.bias', 'vocab_transform.weight', 'vocab_layer_norm.weight', 'vocab_projector.weight', 'vocab_layer_norm.bias', 'vocab_transform.bias']\n",
      "- This IS expected if you are initializing DistilBertModel from the checkpoint of a model trained on another task or with another architecture (e.g. initializing a BertForSequenceClassification model from a BertForPreTraining model).\n",
      "- This IS NOT expected if you are initializing DistilBertModel from the checkpoint of a model that you expect to be exactly identical (initializing a BertForSequenceClassification model from a BertForSequenceClassification model).\n"
     ],
     "output_type":"stream"
    },
    {
     "data":{
      "application\/vnd.jupyter.widget-view+json":{
       "version_major":2,
       "version_minor":0,
       "model_id":"af020f874f554931aebcf07f31e5d55c"
      }
     },
     "metadata":{
      "application\/vnd.jupyter.widget-view+json":{
       "datalore":{
        "widget_id":"1SHzEbcqunwK2fk031qerJ"
       }
      }
     },
     "output_type":"display_data"
    },
    {
     "data":{
      "application\/vnd.jupyter.widget-view+json":{
       "version_major":2,
       "version_minor":0,
       "model_id":"bbefca18f509417494499f3836b59f02"
      }
     },
     "metadata":{
      "application\/vnd.jupyter.widget-view+json":{
       "datalore":{
        "widget_id":"wScap0cpHQGH46NH2DabmN"
       }
      }
     },
     "output_type":"display_data"
    },
    {
     "data":{
      "application\/vnd.jupyter.widget-view+json":{
       "version_major":2,
       "version_minor":0,
       "model_id":"d467fc300fb24aba8559cb7f2f050a05"
      }
     },
     "metadata":{
      "application\/vnd.jupyter.widget-view+json":{
       "datalore":{
        "widget_id":"VH0Az4NZ19t6x4pyEDeYam"
       }
      }
     },
     "output_type":"display_data"
    },
    {
     "data":{
      "application\/vnd.jupyter.widget-view+json":{
       "version_major":2,
       "version_minor":0,
       "model_id":"d4c99be297d14716b5564cf3367fb73a"
      }
     },
     "metadata":{
      "application\/vnd.jupyter.widget-view+json":{
       "datalore":{
        "widget_id":"HpNOKuvZIKq4UuoTebTJKQ"
       }
      }
     },
     "output_type":"display_data"
    },
    {
     "data":{
      "application\/vnd.jupyter.widget-view+json":{
       "version_major":2,
       "version_minor":0,
       "model_id":"f98f6c26641e40faaf5a248ddbdd4147"
      }
     },
     "metadata":{
      "application\/vnd.jupyter.widget-view+json":{
       "datalore":{
        "widget_id":"LVszbpKwBVtnHxvY9xOxCY"
       }
      }
     },
     "output_type":"display_data"
    }
   ],
   "metadata":{
    "datalore":{
     "node_id":"ZRDDeek9aJJfbpsxLfOBak",
     "type":"CODE",
     "hide_input_from_viewers":true,
     "hide_output_from_viewers":true
    }
   }
  },
  {
   "cell_type":"code",
   "source":[
    "# Convert numpy array into a DataFrame\n",
    "embeddings_df = pd.DataFrame(embeddings)\n",
    "\n",
    "# Save the DataFrame into a Parquet file\n",
    "embeddings_df.to_parquet('\/data\/notebook_files\/embeddings.parquet', index=False)"
   ],
   "execution_count":5,
   "outputs":[
    {
     "ename":"ValueError",
     "evalue":"ValueError: parquet must have string column names",
     "traceback":[
      "\u001b[0;31m---------------------------------------------------------------------------",
      "Traceback (most recent call last)",
      "    at line 5 in <module>",
      "    at line 211 in wrapper(*args, **kwargs)",
      "    at line 2976 in to_parquet(self, path, engine, compression, index, partition_cols, storage_options, **kwargs)",
      "    at line 430 in to_parquet(df, path, engine, compression, index, storage_options, partition_cols, **kwargs)",
      "    at line 168 in write(self, df, path, compression, index, storage_options, partition_cols, **kwargs)",
      "    at line 130 in validate_dataframe(df)",
      "ValueError: parquet must have string column names"
     ],
     "output_type":"error"
    }
   ],
   "metadata":{
    "datalore":{
     "node_id":"zaNqcpHAQAGzNx6JqjlVU4",
     "type":"CODE",
     "hide_input_from_viewers":true,
     "hide_output_from_viewers":true
    }
   }
  }
 ],
 "metadata":{
  "widgets":{
   "application\/vnd.jupyter.widget-state+json":{
    "version_major":2,
    "version_minor":0,
    "state":{
     "503b314667a04a06821f1d47e2d5973f":{
      "model_name":"LayoutModel",
      "model_module":"@jupyter-widgets\/base",
      "model_module_version":"1.2.0",
      "state":{
       
      }
     },
     "da1b0b8137aa419eb56ef77bc84115d0":{
      "model_name":"DescriptionStyleModel",
      "model_module":"@jupyter-widgets\/controls",
      "model_module_version":"1.5.0",
      "state":{
       "description_width":""
      }
     },
     "77e4963986564880bb2a4eb791ee9717":{
      "model_name":"HTMLModel",
      "model_module":"@jupyter-widgets\/controls",
      "model_module_version":"1.5.0",
      "state":{
       "layout":"IPY_MODEL_503b314667a04a06821f1d47e2d5973f",
       "style":"IPY_MODEL_da1b0b8137aa419eb56ef77bc84115d0",
       "value":"config.json: 100%"
      }
     },
     "23b4a388e73c481ca316d11d32dddbe8":{
      "model_name":"LayoutModel",
      "model_module":"@jupyter-widgets\/base",
      "model_module_version":"1.2.0",
      "state":{
       
      }
     },
     "840962016cb04f53b109b20ea4c0941b":{
      "model_name":"ProgressStyleModel",
      "model_module":"@jupyter-widgets\/controls",
      "model_module_version":"1.5.0",
      "state":{
       "description_width":""
      }
     },
     "889ba314e921462187bbfa2f48ac8798":{
      "model_name":"FloatProgressModel",
      "model_module":"@jupyter-widgets\/controls",
      "model_module_version":"1.5.0",
      "state":{
       "bar_style":"success",
       "layout":"IPY_MODEL_23b4a388e73c481ca316d11d32dddbe8",
       "max":483,
       "style":"IPY_MODEL_840962016cb04f53b109b20ea4c0941b",
       "value":483
      }
     },
     "6fed664cf82644bbb5ffd055a3c8cb91":{
      "model_name":"LayoutModel",
      "model_module":"@jupyter-widgets\/base",
      "model_module_version":"1.2.0",
      "state":{
       
      }
     },
     "9e319e72ce134485bf408bed134ba653":{
      "model_name":"DescriptionStyleModel",
      "model_module":"@jupyter-widgets\/controls",
      "model_module_version":"1.5.0",
      "state":{
       "description_width":""
      }
     },
     "91a237dfa6a5494cafaedbe7eab2fddd":{
      "model_name":"HTMLModel",
      "model_module":"@jupyter-widgets\/controls",
      "model_module_version":"1.5.0",
      "state":{
       "layout":"IPY_MODEL_6fed664cf82644bbb5ffd055a3c8cb91",
       "style":"IPY_MODEL_9e319e72ce134485bf408bed134ba653",
       "value":" 483\/483 [00:00&lt;00:00, 20.7kB\/s]"
      }
     },
     "911fb1797f494d25ab8433d83f0322b7":{
      "model_name":"LayoutModel",
      "model_module":"@jupyter-widgets\/base",
      "model_module_version":"1.2.0",
      "state":{
       
      }
     },
     "af020f874f554931aebcf07f31e5d55c":{
      "model_name":"HBoxModel",
      "model_module":"@jupyter-widgets\/controls",
      "model_module_version":"1.5.0",
      "state":{
       "children":[
        "IPY_MODEL_77e4963986564880bb2a4eb791ee9717",
        "IPY_MODEL_889ba314e921462187bbfa2f48ac8798",
        "IPY_MODEL_91a237dfa6a5494cafaedbe7eab2fddd"
       ],
       "layout":"IPY_MODEL_911fb1797f494d25ab8433d83f0322b7"
      }
     },
     "345c11ed026b4290a6adbf20833fb854":{
      "model_name":"LayoutModel",
      "model_module":"@jupyter-widgets\/base",
      "model_module_version":"1.2.0",
      "state":{
       
      }
     },
     "8f18a1b865b44a98be686aa14349c05e":{
      "model_name":"DescriptionStyleModel",
      "model_module":"@jupyter-widgets\/controls",
      "model_module_version":"1.5.0",
      "state":{
       "description_width":""
      }
     },
     "6d874b3a43bd41d498ca6d05343a1387":{
      "model_name":"HTMLModel",
      "model_module":"@jupyter-widgets\/controls",
      "model_module_version":"1.5.0",
      "state":{
       "layout":"IPY_MODEL_345c11ed026b4290a6adbf20833fb854",
       "style":"IPY_MODEL_8f18a1b865b44a98be686aa14349c05e",
       "value":"pytorch_model.bin: 100%"
      }
     },
     "43883c49a57e4d96bc1fcc30abce5665":{
      "model_name":"LayoutModel",
      "model_module":"@jupyter-widgets\/base",
      "model_module_version":"1.2.0",
      "state":{
       
      }
     },
     "30cc7c2797fa4e168e19fd2ff7233b44":{
      "model_name":"ProgressStyleModel",
      "model_module":"@jupyter-widgets\/controls",
      "model_module_version":"1.5.0",
      "state":{
       "description_width":""
      }
     },
     "3c33e2737ec04874a96419cd090e2da1":{
      "model_name":"FloatProgressModel",
      "model_module":"@jupyter-widgets\/controls",
      "model_module_version":"1.5.0",
      "state":{
       "bar_style":"success",
       "layout":"IPY_MODEL_43883c49a57e4d96bc1fcc30abce5665",
       "max":267967963,
       "style":"IPY_MODEL_30cc7c2797fa4e168e19fd2ff7233b44",
       "value":267967963
      }
     },
     "0f36065ddd3645b5b5dfd17e511c6f65":{
      "model_name":"LayoutModel",
      "model_module":"@jupyter-widgets\/base",
      "model_module_version":"1.2.0",
      "state":{
       
      }
     },
     "073f07747a524c429a28bdbaf0af13a4":{
      "model_name":"DescriptionStyleModel",
      "model_module":"@jupyter-widgets\/controls",
      "model_module_version":"1.5.0",
      "state":{
       "description_width":""
      }
     },
     "c711d79d187049bf988d4dd125bf0c90":{
      "model_name":"HTMLModel",
      "model_module":"@jupyter-widgets\/controls",
      "model_module_version":"1.5.0",
      "state":{
       "layout":"IPY_MODEL_0f36065ddd3645b5b5dfd17e511c6f65",
       "style":"IPY_MODEL_073f07747a524c429a28bdbaf0af13a4",
       "value":" 268M\/268M [00:02&lt;00:00, 96.7MB\/s]"
      }
     },
     "caacd6c1194e41a28f07fc9f7066f63e":{
      "model_name":"LayoutModel",
      "model_module":"@jupyter-widgets\/base",
      "model_module_version":"1.2.0",
      "state":{
       
      }
     },
     "bbefca18f509417494499f3836b59f02":{
      "model_name":"HBoxModel",
      "model_module":"@jupyter-widgets\/controls",
      "model_module_version":"1.5.0",
      "state":{
       "children":[
        "IPY_MODEL_6d874b3a43bd41d498ca6d05343a1387",
        "IPY_MODEL_3c33e2737ec04874a96419cd090e2da1",
        "IPY_MODEL_c711d79d187049bf988d4dd125bf0c90"
       ],
       "layout":"IPY_MODEL_caacd6c1194e41a28f07fc9f7066f63e"
      }
     },
     "d27ee3723cf0417c8980c81d0ceec301":{
      "model_name":"LayoutModel",
      "model_module":"@jupyter-widgets\/base",
      "model_module_version":"1.2.0",
      "state":{
       
      }
     },
     "394a6542155d4ff49374c9d17e654916":{
      "model_name":"DescriptionStyleModel",
      "model_module":"@jupyter-widgets\/controls",
      "model_module_version":"1.5.0",
      "state":{
       "description_width":""
      }
     },
     "87cb3db6e1fd49e08227edd011fe68de":{
      "model_name":"HTMLModel",
      "model_module":"@jupyter-widgets\/controls",
      "model_module_version":"1.5.0",
      "state":{
       "layout":"IPY_MODEL_d27ee3723cf0417c8980c81d0ceec301",
       "style":"IPY_MODEL_394a6542155d4ff49374c9d17e654916",
       "value":"tokenizer_config.json: 100%"
      }
     },
     "6a2be17cfcf740dfab5e115b266cc792":{
      "model_name":"LayoutModel",
      "model_module":"@jupyter-widgets\/base",
      "model_module_version":"1.2.0",
      "state":{
       
      }
     },
     "c2dc363b41f04f1d9fbe83305132d382":{
      "model_name":"ProgressStyleModel",
      "model_module":"@jupyter-widgets\/controls",
      "model_module_version":"1.5.0",
      "state":{
       "description_width":""
      }
     },
     "b8b6f30d3b1d4b728da54a038cd54d70":{
      "model_name":"FloatProgressModel",
      "model_module":"@jupyter-widgets\/controls",
      "model_module_version":"1.5.0",
      "state":{
       "bar_style":"success",
       "layout":"IPY_MODEL_6a2be17cfcf740dfab5e115b266cc792",
       "max":28,
       "style":"IPY_MODEL_c2dc363b41f04f1d9fbe83305132d382",
       "value":28
      }
     },
     "42afe69bf4074ba2871c3048d3734c64":{
      "model_name":"LayoutModel",
      "model_module":"@jupyter-widgets\/base",
      "model_module_version":"1.2.0",
      "state":{
       
      }
     },
     "eb6cb185768047628a44556f08eb7088":{
      "model_name":"DescriptionStyleModel",
      "model_module":"@jupyter-widgets\/controls",
      "model_module_version":"1.5.0",
      "state":{
       "description_width":""
      }
     },
     "a73d9720cc31479ab40ec18cbf52208c":{
      "model_name":"HTMLModel",
      "model_module":"@jupyter-widgets\/controls",
      "model_module_version":"1.5.0",
      "state":{
       "layout":"IPY_MODEL_42afe69bf4074ba2871c3048d3734c64",
       "style":"IPY_MODEL_eb6cb185768047628a44556f08eb7088",
       "value":" 28.0\/28.0 [00:00&lt;00:00, 1.83kB\/s]"
      }
     },
     "e52c640607004d5e90f016292c082926":{
      "model_name":"LayoutModel",
      "model_module":"@jupyter-widgets\/base",
      "model_module_version":"1.2.0",
      "state":{
       
      }
     },
     "d467fc300fb24aba8559cb7f2f050a05":{
      "model_name":"HBoxModel",
      "model_module":"@jupyter-widgets\/controls",
      "model_module_version":"1.5.0",
      "state":{
       "children":[
        "IPY_MODEL_87cb3db6e1fd49e08227edd011fe68de",
        "IPY_MODEL_b8b6f30d3b1d4b728da54a038cd54d70",
        "IPY_MODEL_a73d9720cc31479ab40ec18cbf52208c"
       ],
       "layout":"IPY_MODEL_e52c640607004d5e90f016292c082926"
      }
     },
     "14c3e1b64e894642ba8b37123bff40c9":{
      "model_name":"LayoutModel",
      "model_module":"@jupyter-widgets\/base",
      "model_module_version":"1.2.0",
      "state":{
       
      }
     },
     "ecea3c14505d47e0bae480f30cc2cd98":{
      "model_name":"DescriptionStyleModel",
      "model_module":"@jupyter-widgets\/controls",
      "model_module_version":"1.5.0",
      "state":{
       "description_width":""
      }
     },
     "9d007a60dd784c54a32cfdb1fd3fbd1b":{
      "model_name":"HTMLModel",
      "model_module":"@jupyter-widgets\/controls",
      "model_module_version":"1.5.0",
      "state":{
       "layout":"IPY_MODEL_14c3e1b64e894642ba8b37123bff40c9",
       "style":"IPY_MODEL_ecea3c14505d47e0bae480f30cc2cd98",
       "value":"vocab.txt: 100%"
      }
     },
     "206580d2a9fa4e23b67c5a3abee5334b":{
      "model_name":"LayoutModel",
      "model_module":"@jupyter-widgets\/base",
      "model_module_version":"1.2.0",
      "state":{
       
      }
     },
     "6b40736ad1464016973c676c9d723503":{
      "model_name":"ProgressStyleModel",
      "model_module":"@jupyter-widgets\/controls",
      "model_module_version":"1.5.0",
      "state":{
       "description_width":""
      }
     },
     "0426cf4e013843aa90ff65b838db4cc5":{
      "model_name":"FloatProgressModel",
      "model_module":"@jupyter-widgets\/controls",
      "model_module_version":"1.5.0",
      "state":{
       "bar_style":"success",
       "layout":"IPY_MODEL_206580d2a9fa4e23b67c5a3abee5334b",
       "max":231508,
       "style":"IPY_MODEL_6b40736ad1464016973c676c9d723503",
       "value":231508
      }
     },
     "c04d312e04b84834a756bb5bd7307587":{
      "model_name":"LayoutModel",
      "model_module":"@jupyter-widgets\/base",
      "model_module_version":"1.2.0",
      "state":{
       
      }
     },
     "33466270d9e9456196896066c10586e8":{
      "model_name":"DescriptionStyleModel",
      "model_module":"@jupyter-widgets\/controls",
      "model_module_version":"1.5.0",
      "state":{
       "description_width":""
      }
     },
     "e1969db94cd245818d489753fb56dbd6":{
      "model_name":"HTMLModel",
      "model_module":"@jupyter-widgets\/controls",
      "model_module_version":"1.5.0",
      "state":{
       "layout":"IPY_MODEL_c04d312e04b84834a756bb5bd7307587",
       "style":"IPY_MODEL_33466270d9e9456196896066c10586e8",
       "value":" 232k\/232k [00:00&lt;00:00, 3.35MB\/s]"
      }
     },
     "f1e20610518d4d66a0327565964c3b58":{
      "model_name":"LayoutModel",
      "model_module":"@jupyter-widgets\/base",
      "model_module_version":"1.2.0",
      "state":{
       
      }
     },
     "d4c99be297d14716b5564cf3367fb73a":{
      "model_name":"HBoxModel",
      "model_module":"@jupyter-widgets\/controls",
      "model_module_version":"1.5.0",
      "state":{
       "children":[
        "IPY_MODEL_9d007a60dd784c54a32cfdb1fd3fbd1b",
        "IPY_MODEL_0426cf4e013843aa90ff65b838db4cc5",
        "IPY_MODEL_e1969db94cd245818d489753fb56dbd6"
       ],
       "layout":"IPY_MODEL_f1e20610518d4d66a0327565964c3b58"
      }
     },
     "4c5d1b1196904643a1f7bcdffc45e18e":{
      "model_name":"LayoutModel",
      "model_module":"@jupyter-widgets\/base",
      "model_module_version":"1.2.0",
      "state":{
       
      }
     },
     "777c8cfbc4164efb99245c6417f467a6":{
      "model_name":"DescriptionStyleModel",
      "model_module":"@jupyter-widgets\/controls",
      "model_module_version":"1.5.0",
      "state":{
       "description_width":""
      }
     },
     "255e69e12b5c48d8a2ffb685fd9eac3e":{
      "model_name":"HTMLModel",
      "model_module":"@jupyter-widgets\/controls",
      "model_module_version":"1.5.0",
      "state":{
       "layout":"IPY_MODEL_4c5d1b1196904643a1f7bcdffc45e18e",
       "style":"IPY_MODEL_777c8cfbc4164efb99245c6417f467a6",
       "value":"tokenizer.json: 100%"
      }
     },
     "f3cab8445fe9401d9ce2d8130710a7a4":{
      "model_name":"LayoutModel",
      "model_module":"@jupyter-widgets\/base",
      "model_module_version":"1.2.0",
      "state":{
       
      }
     },
     "03e84d1277b940109e9edbcc30ac08e3":{
      "model_name":"ProgressStyleModel",
      "model_module":"@jupyter-widgets\/controls",
      "model_module_version":"1.5.0",
      "state":{
       "description_width":""
      }
     },
     "b6e1a6af16fc473fbd755df79e698701":{
      "model_name":"FloatProgressModel",
      "model_module":"@jupyter-widgets\/controls",
      "model_module_version":"1.5.0",
      "state":{
       "bar_style":"success",
       "layout":"IPY_MODEL_f3cab8445fe9401d9ce2d8130710a7a4",
       "max":466062,
       "style":"IPY_MODEL_03e84d1277b940109e9edbcc30ac08e3",
       "value":466062
      }
     },
     "d3fe9c0914cd487f9d5e85498fe52a0c":{
      "model_name":"LayoutModel",
      "model_module":"@jupyter-widgets\/base",
      "model_module_version":"1.2.0",
      "state":{
       
      }
     },
     "bf3d064326a14176b244aac6ba2f7074":{
      "model_name":"DescriptionStyleModel",
      "model_module":"@jupyter-widgets\/controls",
      "model_module_version":"1.5.0",
      "state":{
       "description_width":""
      }
     },
     "6c4bee39818a435e9526a8e8c5d8aabb":{
      "model_name":"HTMLModel",
      "model_module":"@jupyter-widgets\/controls",
      "model_module_version":"1.5.0",
      "state":{
       "layout":"IPY_MODEL_d3fe9c0914cd487f9d5e85498fe52a0c",
       "style":"IPY_MODEL_bf3d064326a14176b244aac6ba2f7074",
       "value":" 466k\/466k [00:00&lt;00:00, 25.8MB\/s]"
      }
     },
     "fd20dd87e7d34873af4279155dc56224":{
      "model_name":"LayoutModel",
      "model_module":"@jupyter-widgets\/base",
      "model_module_version":"1.2.0",
      "state":{
       
      }
     },
     "f98f6c26641e40faaf5a248ddbdd4147":{
      "model_name":"HBoxModel",
      "model_module":"@jupyter-widgets\/controls",
      "model_module_version":"1.5.0",
      "state":{
       "children":[
        "IPY_MODEL_255e69e12b5c48d8a2ffb685fd9eac3e",
        "IPY_MODEL_b6e1a6af16fc473fbd755df79e698701",
        "IPY_MODEL_6c4bee39818a435e9526a8e8c5d8aabb"
       ],
       "layout":"IPY_MODEL_fd20dd87e7d34873af4279155dc56224"
      }
     }
    }
   }
  },
  "kernelspec":{
   "display_name":"Python",
   "language":"python",
   "name":"python"
  },
  "datalore":{
   "computation_mode":"REACTIVE",
   "package_manager":"pip",
   "base_environment":"default",
   "packages":[
    {
     "name":"datasets",
     "version":"2.17.0",
     "source":"PIP"
    }
   ],
   "report_row_ids":[
    
   ],
   "version":3
  }
 },
 "nbformat":4,
 "nbformat_minor":4
}